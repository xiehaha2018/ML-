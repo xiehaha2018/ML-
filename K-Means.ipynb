{
 "cells": [
  {
   "cell_type": "code",
   "execution_count": null,
   "metadata": {},
   "outputs": [],
   "source": [
    "import os\n",
    "import argparse\n",
    "import numpy as np\n",
    "import time \n",
    "import matplotlib.pyplot as plt\n",
    "%matplotlib inline"
   ]
  },
  {
   "cell_type": "markdown",
   "metadata": {},
   "source": [
    "### 新建一个seed参数"
   ]
  },
  {
   "cell_type": "code",
   "execution_count": null,
   "metadata": {},
   "outputs": [],
   "source": [
    "parser = argparse.ArgumentParser()\n",
    "parser.add_argument('-s', '--seed', type=int, default=42, help=\"Random seed.\") #该函数表示添加一个参数，具体链接看https://www.jianshu.com/p/fef2d215b91d\n",
    "args = parser.parse_args()"
   ]
  },
  {
   "cell_type": "markdown",
   "metadata": {},
   "source": [
    "### 生成三个不同高斯分布的样本点"
   ]
  },
  {
   "cell_type": "code",
   "execution_count": null,
   "metadata": {},
   "outputs": [],
   "source": [
    "np.random.seed(args.seed)\n",
    "u1,u2,u3 = np.asarray([1.0,1.0]),np.asarry([-1.0,1.0]),np.asarray([5.0,5.0])   #np.aasarry()转换为数组array格式\n",
    "sigma1, sigma2, sigma3 = np.random.rand(2, 2), np.random.rand(2, 2), np.random.rand(2, 2) #生成2*2的随机矩阵\n",
    "sigma1 = np.dot(sigma1, sigma1.T) * 1.0\n",
    "sigma2 = np.dot(sigma2, sigma2.T) * 5.0\n",
    "sigma3 = np.dot(sigma3, sigma3.T) * 2.0\n",
    "\n",
    "num_pts = 100\n",
    "#生成一个多元正态分布样本，u1表示分布均值，sigma1 * np.ones((2, 2))表示分布的协方差矩阵，size表示维度\n",
    "samples1 = np.random.multivariate_normal(u1, sigma1 * np.ones((2, 2)), size=num_pts)  \n",
    "samples2 = np.random.multivariate_normal(u2, sigma2 * np.ones((2, 2)), size=num_pts)\n",
    "samples3 = np.random.multivariate_normal(u3, sigma3 * np.ones((2, 2)), size=num_pts)"
   ]
  },
  {
   "cell_type": "markdown",
   "metadata": {},
   "source": [
    "### 可视化刚才生成三个样本的散点图"
   ]
  },
  {
   "cell_type": "code",
   "execution_count": null,
   "metadata": {},
   "outputs": [],
   "source": [
    "plt.figure()\n",
    "plt.scatter(samples1[:, 0], samples1[:, 1], s=40, c=\"r\", alpha=0.5)  #s参数表示点大小，alpha表示背景透明度\n",
    "plt.scatter(samples2[:, 0], samples2[:, 1], s=40, c=\"b\", alpha=0.5)\n",
    "plt.scatter(samples3[:, 0], samples3[:, 1], s=40, c=\"g\", alpha=0.5)\n",
    "plt.grid(True) #配置网格线\n",
    "plt.title(\"Ground Truth Clustering\")\n",
    "# plt.savefig(\"./clustering_{}.pdf\".format(args.seed), bbox_inches=\"tight\")\n",
    "plt.show()"
   ]
  },
  {
   "cell_type": "markdown",
   "metadata": {},
   "source": [
    "### 随机生成初始化数据"
   ]
  },
  {
   "cell_type": "code",
   "execution_count": null,
   "metadata": {},
   "outputs": [],
   "source": [
    "samples = np.vstack([samples1,samples2,samples3])  #将数据按列合并排列\n",
    "rorder = np.arange(num_pts*3)\n",
    "rorder = np.random.shuffle(rorder)  #shuffle乱序排列\n",
    "samples = samples[rorder,:].squeeze() #numpy.squeeze(a,axis = None)从数组的形状中删除单维度条目，即把shape中为1的维度去掉\n",
    "k=3\n",
    "centers = np.random.rand(k,2)\n",
    "num_iters = 10\n",
    "losses=[]\n",
    "xdist = np.sum(samples*samples,axis==1)  #axis=1表示按行相加"
   ]
  },
  {
   "cell_type": "markdown",
   "metadata": {},
   "source": [
    "### K-means核心算法"
   ]
  },
  {
   "cell_type": "code",
   "execution_count": null,
   "metadata": {},
   "outputs": [],
   "source": [
    "for _ in range(num_iters):\n",
    "    cdist = np.sum(centers*centers,axis=1)\n",
    "    consts = xdist[:,np.newaxis]+cdist\n",
    "    dists = consts-2*np.dot(samples,centers.T)  #计算到中心点的距离\n",
    "    ids = np.argmin(dists,axis=1)   #找到距离最小的中心点，argmin返回的是沿轴方向的最小值的索引\n",
    "    losses.append(np.sum(np.min(dists,axis=1)))\n",
    "    for i in range(k):\n",
    "        centers[i,:] = np.mean(samples[ids == i],axis = 0)  #更新中心点"
   ]
  },
  {
   "cell_type": "markdown",
   "metadata": {},
   "source": [
    "### 聚类可视化"
   ]
  },
  {
   "cell_type": "code",
   "execution_count": null,
   "metadata": {},
   "outputs": [],
   "source": [
    "# Plot loss function.损失函数\n",
    "plt.figure()\n",
    "plt.plot(np.arange(num_iters), losses, \"bo-\", linewidth=4, markersize=10)\n",
    "plt.grid(True)\n",
    "plt.xlabel(\"Iteration\")\n",
    "plt.ylabel(\"Loss\")\n",
    "plt.title(\"K-means loss function\")\n",
    "plt.show()\n",
    "\n",
    "# Plot cluster assignment.聚类显示\n",
    "plt.figure()\n",
    "colors = [\"r\", \"b\", \"g\"]\n",
    "for i in range(k):\n",
    "    plt.scatter(samples[ids == i, 0], samples[ids == i, 1], c=colors[i], s=40, alpha=0.5)\n",
    "plt.grid(True)\n",
    "plt.title(\"K-means Clustering\")\n",
    "plt.savefig(\"./kmeans_{}.pdf\".format(args.seed), bbox_inches=\"tight\")\n",
    "plt.show()"
   ]
  }
 ],
 "metadata": {
  "kernelspec": {
   "display_name": "Python 3",
   "language": "python",
   "name": "python3"
  },
  "language_info": {
   "codemirror_mode": {
    "name": "ipython",
    "version": 3
   },
   "file_extension": ".py",
   "mimetype": "text/x-python",
   "name": "python",
   "nbconvert_exporter": "python",
   "pygments_lexer": "ipython3",
   "version": "3.6.7"
  }
 },
 "nbformat": 4,
 "nbformat_minor": 2
}
